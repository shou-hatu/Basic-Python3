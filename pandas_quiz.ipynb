{
 "cells": [
  {
   "attachments": {},
   "cell_type": "markdown",
   "metadata": {
    "colab_type": "text",
    "id": "XfmMtuxKYRoO"
   },
   "source": [
    "# Pandas確認課題\n",
    "\n",
    "このPandas確認問題は、データサイエンス100本ノックの問題で最低限必要な問題を抜粋したものですが、[Introduction_to_Pandas](./11_Introduction_to_Pandas.ipynb) に掲載されていない機能が必要な問題もあります。\n",
    "初めて触るライブラリを調べながら使うというのはよくある光景です。この課題では皆さんにもそれに挑戦していただきます。  \n",
    "ヒントとして検索キーワードなどを載せておくので、自力で調べながら解いてみましょう。  \n",
    "\n"
   ]
  },
  {
   "cell_type": "markdown",
   "metadata": {
    "colab_type": "text",
    "id": "9ktBdoeha1jL"
   },
   "source": [
    "## 必要モジュールのインポート\n",
    "\n",
    "この問題で使うモジュールをインポートします．"
   ]
  },
  {
   "cell_type": "code",
   "execution_count": 50,
   "metadata": {
    "colab": {},
    "colab_type": "code",
    "id": "2IhABxEEaq19"
   },
   "outputs": [],
   "source": [
    "import pandas as pd\n",
    "import numpy as np"
   ]
  },
  {
   "cell_type": "markdown",
   "metadata": {
    "colab_type": "text",
    "id": "llLJCZTEa5Rb"
   },
   "source": [
    "## データの読み込み"
   ]
  },
  {
   "cell_type": "code",
   "execution_count": 51,
   "metadata": {
    "colab": {},
    "colab_type": "code",
    "id": "uN-SvpE_a50E"
   },
   "outputs": [],
   "source": [
    "df_customer = pd.read_csv('https://raw.githubusercontent.com/The-Japan-DataScientist-Society/100knocks-preprocess/master/docker/work/data/customer.csv')\n",
    "df_product = pd.read_csv('https://raw.githubusercontent.com/The-Japan-DataScientist-Society/100knocks-preprocess/master/docker/work/data/product.csv')\n",
    "df_receipt = pd.read_csv('https://raw.githubusercontent.com/The-Japan-DataScientist-Society/100knocks-preprocess/master/docker/work/data/receipt.csv')"
   ]
  },
  {
   "cell_type": "markdown",
   "metadata": {
    "colab_type": "text",
    "id": "xm5FMZJobU3Y"
   },
   "source": [
    "---\n",
    "## 問1. 条件抽出\n",
    "> P-006: レシート明細データフレーム「df_receipt」から売上日（sales_ymd）、顧客ID（customer_id）、商品コード（product_cd）、売上数量（quantity）、売上金額（amount）の順に列を指定し、以下の条件を満たすデータを抽出せよ。\n",
    "> - 顧客ID（customer_id）が\"CS018205000001\"\n",
    "> - 売上金額（amount）が1,000以上または売上数量（quantity）が5以上"
   ]
  },
  {
   "cell_type": "markdown",
   "metadata": {},
   "source": []
  },
  {
   "cell_type": "code",
   "execution_count": 52,
   "metadata": {},
   "outputs": [
    {
     "data": {
      "text/html": [
       "<div>\n",
       "<style scoped>\n",
       "    .dataframe tbody tr th:only-of-type {\n",
       "        vertical-align: middle;\n",
       "    }\n",
       "\n",
       "    .dataframe tbody tr th {\n",
       "        vertical-align: top;\n",
       "    }\n",
       "\n",
       "    .dataframe thead th {\n",
       "        text-align: right;\n",
       "    }\n",
       "</style>\n",
       "<table border=\"1\" class=\"dataframe\">\n",
       "  <thead>\n",
       "    <tr style=\"text-align: right;\">\n",
       "      <th></th>\n",
       "      <th>sales_ymd</th>\n",
       "      <th>sales_epoch</th>\n",
       "      <th>store_cd</th>\n",
       "      <th>receipt_no</th>\n",
       "      <th>receipt_sub_no</th>\n",
       "      <th>customer_id</th>\n",
       "      <th>product_cd</th>\n",
       "      <th>quantity</th>\n",
       "      <th>amount</th>\n",
       "    </tr>\n",
       "  </thead>\n",
       "  <tbody>\n",
       "    <tr>\n",
       "      <th>17</th>\n",
       "      <td>20181225</td>\n",
       "      <td>1545696000</td>\n",
       "      <td>S13020</td>\n",
       "      <td>1172</td>\n",
       "      <td>2</td>\n",
       "      <td>ZZ000000000000</td>\n",
       "      <td>P071401002</td>\n",
       "      <td>1</td>\n",
       "      <td>1100</td>\n",
       "    </tr>\n",
       "    <tr>\n",
       "      <th>36</th>\n",
       "      <td>20180911</td>\n",
       "      <td>1536624000</td>\n",
       "      <td>S13018</td>\n",
       "      <td>1122</td>\n",
       "      <td>2</td>\n",
       "      <td>CS018205000001</td>\n",
       "      <td>P071401012</td>\n",
       "      <td>1</td>\n",
       "      <td>2200</td>\n",
       "    </tr>\n",
       "    <tr>\n",
       "      <th>40</th>\n",
       "      <td>20170501</td>\n",
       "      <td>1493596800</td>\n",
       "      <td>S13004</td>\n",
       "      <td>1192</td>\n",
       "      <td>2</td>\n",
       "      <td>CS004415000232</td>\n",
       "      <td>P090301078</td>\n",
       "      <td>1</td>\n",
       "      <td>1880</td>\n",
       "    </tr>\n",
       "    <tr>\n",
       "      <th>73</th>\n",
       "      <td>20170523</td>\n",
       "      <td>1495497600</td>\n",
       "      <td>S14028</td>\n",
       "      <td>1182</td>\n",
       "      <td>2</td>\n",
       "      <td>CS028415000203</td>\n",
       "      <td>P071401019</td>\n",
       "      <td>1</td>\n",
       "      <td>2200</td>\n",
       "    </tr>\n",
       "    <tr>\n",
       "      <th>75</th>\n",
       "      <td>20180310</td>\n",
       "      <td>1520640000</td>\n",
       "      <td>S14028</td>\n",
       "      <td>112</td>\n",
       "      <td>1</td>\n",
       "      <td>ZZ000000000000</td>\n",
       "      <td>P071401002</td>\n",
       "      <td>1</td>\n",
       "      <td>1100</td>\n",
       "    </tr>\n",
       "    <tr>\n",
       "      <th>...</th>\n",
       "      <td>...</td>\n",
       "      <td>...</td>\n",
       "      <td>...</td>\n",
       "      <td>...</td>\n",
       "      <td>...</td>\n",
       "      <td>...</td>\n",
       "      <td>...</td>\n",
       "      <td>...</td>\n",
       "      <td>...</td>\n",
       "    </tr>\n",
       "    <tr>\n",
       "      <th>104622</th>\n",
       "      <td>20170801</td>\n",
       "      <td>1501545600</td>\n",
       "      <td>S13017</td>\n",
       "      <td>1102</td>\n",
       "      <td>2</td>\n",
       "      <td>CS017515000174</td>\n",
       "      <td>P090701080</td>\n",
       "      <td>1</td>\n",
       "      <td>1280</td>\n",
       "    </tr>\n",
       "    <tr>\n",
       "      <th>104656</th>\n",
       "      <td>20170730</td>\n",
       "      <td>1501372800</td>\n",
       "      <td>S13005</td>\n",
       "      <td>1102</td>\n",
       "      <td>2</td>\n",
       "      <td>CS005515000093</td>\n",
       "      <td>P071401018</td>\n",
       "      <td>1</td>\n",
       "      <td>2200</td>\n",
       "    </tr>\n",
       "    <tr>\n",
       "      <th>104662</th>\n",
       "      <td>20191024</td>\n",
       "      <td>1571875200</td>\n",
       "      <td>S14011</td>\n",
       "      <td>1132</td>\n",
       "      <td>2</td>\n",
       "      <td>CS011411000001</td>\n",
       "      <td>P071401001</td>\n",
       "      <td>1</td>\n",
       "      <td>1100</td>\n",
       "    </tr>\n",
       "    <tr>\n",
       "      <th>104666</th>\n",
       "      <td>20170330</td>\n",
       "      <td>1490832000</td>\n",
       "      <td>S13017</td>\n",
       "      <td>1112</td>\n",
       "      <td>1</td>\n",
       "      <td>CS017411000016</td>\n",
       "      <td>P071401013</td>\n",
       "      <td>1</td>\n",
       "      <td>2200</td>\n",
       "    </tr>\n",
       "    <tr>\n",
       "      <th>104669</th>\n",
       "      <td>20190726</td>\n",
       "      <td>1564099200</td>\n",
       "      <td>S14006</td>\n",
       "      <td>1122</td>\n",
       "      <td>1</td>\n",
       "      <td>CS006615000114</td>\n",
       "      <td>P071301002</td>\n",
       "      <td>1</td>\n",
       "      <td>2485</td>\n",
       "    </tr>\n",
       "  </tbody>\n",
       "</table>\n",
       "<p>8427 rows × 9 columns</p>\n",
       "</div>"
      ],
      "text/plain": [
       "        sales_ymd  sales_epoch store_cd  receipt_no  receipt_sub_no  \\\n",
       "17       20181225   1545696000   S13020        1172               2   \n",
       "36       20180911   1536624000   S13018        1122               2   \n",
       "40       20170501   1493596800   S13004        1192               2   \n",
       "73       20170523   1495497600   S14028        1182               2   \n",
       "75       20180310   1520640000   S14028         112               1   \n",
       "...           ...          ...      ...         ...             ...   \n",
       "104622   20170801   1501545600   S13017        1102               2   \n",
       "104656   20170730   1501372800   S13005        1102               2   \n",
       "104662   20191024   1571875200   S14011        1132               2   \n",
       "104666   20170330   1490832000   S13017        1112               1   \n",
       "104669   20190726   1564099200   S14006        1122               1   \n",
       "\n",
       "           customer_id  product_cd  quantity  amount  \n",
       "17      ZZ000000000000  P071401002         1    1100  \n",
       "36      CS018205000001  P071401012         1    2200  \n",
       "40      CS004415000232  P090301078         1    1880  \n",
       "73      CS028415000203  P071401019         1    2200  \n",
       "75      ZZ000000000000  P071401002         1    1100  \n",
       "...                ...         ...       ...     ...  \n",
       "104622  CS017515000174  P090701080         1    1280  \n",
       "104656  CS005515000093  P071401018         1    2200  \n",
       "104662  CS011411000001  P071401001         1    1100  \n",
       "104666  CS017411000016  P071401013         1    2200  \n",
       "104669  CS006615000114  P071301002         1    2485  \n",
       "\n",
       "[8427 rows x 9 columns]"
      ]
     },
     "execution_count": 52,
     "metadata": {},
     "output_type": "execute_result"
    }
   ],
   "source": [
    "#列を並び替えたいときはreindex(columns=['(列名)', '(列名)', '(列名)'])\n",
    "#行を並び替えたいときはreindex(index=['(行名)', '(行名)', '(行名)'])\n",
    "df_receipt_reindex= df_receipt.reindex(columns=['sales_ymd', 'customer_id', 'product_cd','quantity','amount'])\n",
    "df_receipt.query(\"1000 < amount | 5 < quantity & 'customer_id' == 'CS018205000001'\")\n",
    "\n"
   ]
  },
  {
   "cell_type": "markdown",
   "metadata": {
    "colab_type": "text",
    "id": "7WsKq3Voj0LF"
   },
   "source": [
    "---\n",
    "## 問2. ソート\n",
    "> P-18: 顧客データフレーム（df_customer）を生年月日（birth_day）で若い順にソートし、先頭5件を全項目表示せよ。"
   ]
  },
  {
   "cell_type": "code",
   "execution_count": 53,
   "metadata": {
    "colab": {
     "base_uri": "https://localhost:8080/",
     "height": 694
    },
    "colab_type": "code",
    "id": "uLdYmXgdjxaw",
    "outputId": "7a064e8c-4db3-4350-a212-688cb9b49980"
   },
   "outputs": [
    {
     "data": {
      "text/html": [
       "<div>\n",
       "<style scoped>\n",
       "    .dataframe tbody tr th:only-of-type {\n",
       "        vertical-align: middle;\n",
       "    }\n",
       "\n",
       "    .dataframe tbody tr th {\n",
       "        vertical-align: top;\n",
       "    }\n",
       "\n",
       "    .dataframe thead th {\n",
       "        text-align: right;\n",
       "    }\n",
       "</style>\n",
       "<table border=\"1\" class=\"dataframe\">\n",
       "  <thead>\n",
       "    <tr style=\"text-align: right;\">\n",
       "      <th></th>\n",
       "      <th>customer_id</th>\n",
       "      <th>customer_name</th>\n",
       "      <th>gender_cd</th>\n",
       "      <th>gender</th>\n",
       "      <th>birth_day</th>\n",
       "      <th>age</th>\n",
       "      <th>postal_cd</th>\n",
       "      <th>address</th>\n",
       "      <th>application_store_cd</th>\n",
       "      <th>application_date</th>\n",
       "      <th>status_cd</th>\n",
       "    </tr>\n",
       "  </thead>\n",
       "  <tbody>\n",
       "    <tr>\n",
       "      <th>18817</th>\n",
       "      <td>CS003813000014</td>\n",
       "      <td>村山 菜々美</td>\n",
       "      <td>1</td>\n",
       "      <td>女性</td>\n",
       "      <td>1928-11-26</td>\n",
       "      <td>90</td>\n",
       "      <td>182-0007</td>\n",
       "      <td>東京都調布市菊野台**********</td>\n",
       "      <td>S13003</td>\n",
       "      <td>20160214</td>\n",
       "      <td>0-00000000-0</td>\n",
       "    </tr>\n",
       "    <tr>\n",
       "      <th>12328</th>\n",
       "      <td>CS026813000004</td>\n",
       "      <td>吉村 朝陽</td>\n",
       "      <td>1</td>\n",
       "      <td>女性</td>\n",
       "      <td>1928-12-14</td>\n",
       "      <td>90</td>\n",
       "      <td>251-0043</td>\n",
       "      <td>神奈川県藤沢市辻堂元町**********</td>\n",
       "      <td>S14026</td>\n",
       "      <td>20150723</td>\n",
       "      <td>0-00000000-0</td>\n",
       "    </tr>\n",
       "    <tr>\n",
       "      <th>15682</th>\n",
       "      <td>CS018811000003</td>\n",
       "      <td>熊沢 美里</td>\n",
       "      <td>1</td>\n",
       "      <td>女性</td>\n",
       "      <td>1929-01-07</td>\n",
       "      <td>90</td>\n",
       "      <td>204-0004</td>\n",
       "      <td>東京都清瀬市野塩**********</td>\n",
       "      <td>S13018</td>\n",
       "      <td>20150403</td>\n",
       "      <td>0-00000000-0</td>\n",
       "    </tr>\n",
       "    <tr>\n",
       "      <th>15302</th>\n",
       "      <td>CS027803000004</td>\n",
       "      <td>内村 拓郎</td>\n",
       "      <td>0</td>\n",
       "      <td>男性</td>\n",
       "      <td>1929-01-12</td>\n",
       "      <td>90</td>\n",
       "      <td>251-0031</td>\n",
       "      <td>神奈川県藤沢市鵠沼藤が谷**********</td>\n",
       "      <td>S14027</td>\n",
       "      <td>20151227</td>\n",
       "      <td>0-00000000-0</td>\n",
       "    </tr>\n",
       "    <tr>\n",
       "      <th>1681</th>\n",
       "      <td>CS013801000003</td>\n",
       "      <td>天野 拓郎</td>\n",
       "      <td>0</td>\n",
       "      <td>男性</td>\n",
       "      <td>1929-01-15</td>\n",
       "      <td>90</td>\n",
       "      <td>274-0824</td>\n",
       "      <td>千葉県船橋市前原東**********</td>\n",
       "      <td>S12013</td>\n",
       "      <td>20160120</td>\n",
       "      <td>0-00000000-0</td>\n",
       "    </tr>\n",
       "  </tbody>\n",
       "</table>\n",
       "</div>"
      ],
      "text/plain": [
       "          customer_id customer_name  gender_cd gender   birth_day  age  \\\n",
       "18817  CS003813000014        村山 菜々美          1     女性  1928-11-26   90   \n",
       "12328  CS026813000004         吉村 朝陽          1     女性  1928-12-14   90   \n",
       "15682  CS018811000003         熊沢 美里          1     女性  1929-01-07   90   \n",
       "15302  CS027803000004         内村 拓郎          0     男性  1929-01-12   90   \n",
       "1681   CS013801000003         天野 拓郎          0     男性  1929-01-15   90   \n",
       "\n",
       "      postal_cd                 address application_store_cd  \\\n",
       "18817  182-0007     東京都調布市菊野台**********               S13003   \n",
       "12328  251-0043   神奈川県藤沢市辻堂元町**********               S14026   \n",
       "15682  204-0004      東京都清瀬市野塩**********               S13018   \n",
       "15302  251-0031  神奈川県藤沢市鵠沼藤が谷**********               S14027   \n",
       "1681   274-0824     千葉県船橋市前原東**********               S12013   \n",
       "\n",
       "       application_date     status_cd  \n",
       "18817          20160214  0-00000000-0  \n",
       "12328          20150723  0-00000000-0  \n",
       "15682          20150403  0-00000000-0  \n",
       "15302          20151227  0-00000000-0  \n",
       "1681           20160120  0-00000000-0  "
      ]
     },
     "execution_count": 53,
     "metadata": {},
     "output_type": "execute_result"
    }
   ],
   "source": [
    "#df.sort_values(by-'列名')は昇順\n",
    "#df.sort_values(by='', ascending=False)で降順に並べ替え\n",
    "df_customer_birth = df_customer.sort_values(by='birth_day')\n",
    "df_customer_birth.head(5)"
   ]
  },
  {
   "cell_type": "markdown",
   "metadata": {
    "colab_type": "text",
    "id": "1lRGtDSphhyQ"
   },
   "source": [
    "---\n",
    "## 問3. 全件数\n",
    "> P-021: レシート明細データフレーム（df_receipt）に対し、件数をカウントせよ。"
   ]
  },
  {
   "cell_type": "code",
   "execution_count": 54,
   "metadata": {
    "colab": {
     "base_uri": "https://localhost:8080/",
     "height": 35
    },
    "colab_type": "code",
    "id": "m-ihL_fVhhyQ",
    "outputId": "da0669b7-2c34-4dc6-becb-4da002103202"
   },
   "outputs": [
    {
     "data": {
      "text/plain": [
       "sales_ymd         104681\n",
       "sales_epoch       104681\n",
       "store_cd          104681\n",
       "receipt_no        104681\n",
       "receipt_sub_no    104681\n",
       "customer_id       104681\n",
       "product_cd        104681\n",
       "quantity          104681\n",
       "amount            104681\n",
       "dtype: int64"
      ]
     },
     "execution_count": 54,
     "metadata": {},
     "output_type": "execute_result"
    }
   ],
   "source": [
    "df_receipt.count()"
   ]
  },
  {
   "cell_type": "markdown",
   "metadata": {
    "colab_type": "text",
    "id": "MkjDW-oyhhyS"
   },
   "source": [
    "## 問4. ユニーク件数\n",
    "> P-022: レシート明細データフレーム（df_receipt）の顧客ID（customer_id）に対し、ユニーク件数をカウントせよ。"
   ]
  },
  {
   "cell_type": "code",
   "execution_count": 55,
   "metadata": {
    "colab": {
     "base_uri": "https://localhost:8080/",
     "height": 35
    },
    "colab_type": "code",
    "id": "0xSI9r8UhhyS",
    "outputId": "0c5a57f4-2088-4109-a40e-eb76c4845af0"
   },
   "outputs": [
    {
     "data": {
      "text/plain": [
       "8307"
      ]
     },
     "execution_count": 55,
     "metadata": {},
     "output_type": "execute_result"
    }
   ],
   "source": [
    "#ユニーク;重複しない→総件数ではなくIDの種類をカウントする？\n",
    "#df.loc[行名, 列名]\n",
    "df_customer_id = df_receipt.loc[:,\"customer_id\"]\n",
    "df_customer_id.nunique()"
   ]
  },
  {
   "attachments": {},
   "cell_type": "markdown",
   "metadata": {},
   "source": [
    "<details>\n",
    "<summary>ヒント</summary>\n",
    "「ユニーク」というのはそのまま検索に使える単語です。  \n",
    "</details>"
   ]
  },
  {
   "cell_type": "markdown",
   "metadata": {
    "colab_type": "text",
    "id": "h9E9b_yUhhyq"
   },
   "source": [
    "---\n",
    "## 問5. 〇〇ごとに集計\n",
    "> P-035: レシート明細データフレーム（df_receipt）に対し、顧客ID（customer_id）ごとに売上金額（amount）を合計して全顧客の平均を求め、平均以上に買い物をしている顧客を抽出せよ。ただし、顧客IDが\"Z\"から始まるのものは非会員を表すため、除外して計算すること。なお、データは先頭5件だけ表示せよ。\n",
    "\n",
    "会員のみを抽出する方法は、例えば以下の2通りの方法があります。"
   ]
  },
  {
   "cell_type": "code",
   "execution_count": 56,
   "metadata": {},
   "outputs": [],
   "source": [
    "df_receipt_only_member = df_receipt[~df_receipt[\"customer_id\"].str.startswith(\"Z\")]\n",
    "df_receipt_only_member = df_receipt.query(\"not customer_id.str.startswith('Z')\", engine=\"python\")"
   ]
  },
  {
   "cell_type": "code",
   "execution_count": 57,
   "metadata": {},
   "outputs": [
    {
     "data": {
      "text/html": [
       "<div>\n",
       "<style scoped>\n",
       "    .dataframe tbody tr th:only-of-type {\n",
       "        vertical-align: middle;\n",
       "    }\n",
       "\n",
       "    .dataframe tbody tr th {\n",
       "        vertical-align: top;\n",
       "    }\n",
       "\n",
       "    .dataframe thead th {\n",
       "        text-align: right;\n",
       "    }\n",
       "</style>\n",
       "<table border=\"1\" class=\"dataframe\">\n",
       "  <thead>\n",
       "    <tr style=\"text-align: right;\">\n",
       "      <th></th>\n",
       "      <th>amount</th>\n",
       "    </tr>\n",
       "    <tr>\n",
       "      <th>customer_id</th>\n",
       "      <th></th>\n",
       "    </tr>\n",
       "  </thead>\n",
       "  <tbody>\n",
       "    <tr>\n",
       "      <th>CS001115000010</th>\n",
       "      <td>3044</td>\n",
       "    </tr>\n",
       "    <tr>\n",
       "      <th>CS001205000006</th>\n",
       "      <td>3337</td>\n",
       "    </tr>\n",
       "    <tr>\n",
       "      <th>CS001214000009</th>\n",
       "      <td>4685</td>\n",
       "    </tr>\n",
       "    <tr>\n",
       "      <th>CS001214000017</th>\n",
       "      <td>4132</td>\n",
       "    </tr>\n",
       "    <tr>\n",
       "      <th>CS001214000052</th>\n",
       "      <td>5639</td>\n",
       "    </tr>\n",
       "  </tbody>\n",
       "</table>\n",
       "</div>"
      ],
      "text/plain": [
       "                amount\n",
       "customer_id           \n",
       "CS001115000010    3044\n",
       "CS001205000006    3337\n",
       "CS001214000009    4685\n",
       "CS001214000017    4132\n",
       "CS001214000052    5639"
      ]
     },
     "execution_count": 57,
     "metadata": {},
     "output_type": "execute_result"
    }
   ],
   "source": [
    "df_receipt_only_member = df_receipt[~df_receipt[\"customer_id\"].str.startswith(\"Z\")]\n",
    "#df.groupby(\"含まれる要素ごとに分けたいカラムのカラム名\")[\"平均値を出したいカラム\"].mean()；今回はcustomer_idの要素ごとの売上金額の平均値を表す\n",
    "#df_amount_sum;customer_idごとのamountの合計df\n",
    "#1 行だけ、もしくは 1 列だけ抽出した場合は、シリーズ (series) オブジェクトが返される。\n",
    "df_amount_sum = df_receipt_only_member.groupby(\"customer_id\")[\"amount\"].sum()\n",
    "#entire_sum_mean;df_amount_sumのamount(customer_idごとの)の平均値\n",
    "receipt_only_member_mean = df_amount_sum.mean()\n",
    "\n",
    "#.to_frame()でdf_amount_sumをSerise->dfへ変換\n",
    "#qurey内の変数は直前に@をつけないとquery外の変数にアクセスできない\n",
    "#df_amount_over_average;df_amount_sumから平均以上のcustomer_idを抽出\n",
    "df_amount_sum.to_frame().query(\" amount > @receipt_only_member_mean \").head()\n"
   ]
  },
  {
   "attachments": {},
   "cell_type": "markdown",
   "metadata": {},
   "source": [
    "<details>\n",
    "<summary>ヒント1</summary>\n",
    "「pandas 要素ごと 集計」 などで今回使える機能に関する記事が見つかります。\n",
    "</details>"
   ]
  },
  {
   "attachments": {},
   "cell_type": "markdown",
   "metadata": {},
   "source": [
    "<details>\n",
    "<summary>ヒント2</summary>\n",
    "メソッド名は \"groupby\" です。\n",
    "</details>"
   ]
  },
  {
   "cell_type": "markdown",
   "metadata": {
    "colab_type": "text",
    "id": "iNO7ESvWhhyw"
   },
   "source": [
    "---\n",
    "## 問6. DataFrameの結合\n",
    "> P-038: 顧客データフレーム（df_customer）とレシート明細データフレーム（df_receipt）から、各顧客ごとの売上金額合計を求めよ。ただし、買い物の実績がない顧客については売上金額を0として表示させること。また、顧客は性別コード（gender_cd）が女性（1）であるものを対象とし、非会員（顧客IDが'Z'から始まるもの）は除外すること。なお、結果は先頭5件だけ表示せよ。"
   ]
  },
  {
   "cell_type": "code",
   "execution_count": 58,
   "metadata": {},
   "outputs": [],
   "source": [
    "df_customer_only_member = df_customer[~df_customer[\"customer_id\"].str.startswith(\"Z\")]\n",
    "df_customer_only_member = df_customer.query(\"not customer_id.str.startswith('Z')\", engine=\"python\")"
   ]
  },
  {
   "cell_type": "code",
   "execution_count": 59,
   "metadata": {
    "colab": {
     "base_uri": "https://localhost:8080/",
     "height": 728
    },
    "colab_type": "code",
    "id": "hmc6LUaEhhyw",
    "outputId": "f1b1dc56-af65-4fbf-9d8a-5c0490a2ad17"
   },
   "outputs": [
    {
     "data": {
      "text/html": [
       "<div>\n",
       "<style scoped>\n",
       "    .dataframe tbody tr th:only-of-type {\n",
       "        vertical-align: middle;\n",
       "    }\n",
       "\n",
       "    .dataframe tbody tr th {\n",
       "        vertical-align: top;\n",
       "    }\n",
       "\n",
       "    .dataframe thead th {\n",
       "        text-align: right;\n",
       "    }\n",
       "</style>\n",
       "<table border=\"1\" class=\"dataframe\">\n",
       "  <thead>\n",
       "    <tr style=\"text-align: right;\">\n",
       "      <th></th>\n",
       "      <th>amount</th>\n",
       "    </tr>\n",
       "    <tr>\n",
       "      <th>customer_id</th>\n",
       "      <th></th>\n",
       "    </tr>\n",
       "  </thead>\n",
       "  <tbody>\n",
       "    <tr>\n",
       "      <th>CS001113000004</th>\n",
       "      <td>1298</td>\n",
       "    </tr>\n",
       "    <tr>\n",
       "      <th>CS001114000005</th>\n",
       "      <td>626</td>\n",
       "    </tr>\n",
       "    <tr>\n",
       "      <th>CS001115000010</th>\n",
       "      <td>3044</td>\n",
       "    </tr>\n",
       "    <tr>\n",
       "      <th>CS001211000025</th>\n",
       "      <td>456</td>\n",
       "    </tr>\n",
       "    <tr>\n",
       "      <th>CS001212000027</th>\n",
       "      <td>448</td>\n",
       "    </tr>\n",
       "  </tbody>\n",
       "</table>\n",
       "</div>"
      ],
      "text/plain": [
       "                amount\n",
       "customer_id           \n",
       "CS001113000004    1298\n",
       "CS001114000005     626\n",
       "CS001115000010    3044\n",
       "CS001211000025     456\n",
       "CS001212000027     448"
      ]
     },
     "execution_count": 59,
     "metadata": {},
     "output_type": "execute_result"
    }
   ],
   "source": [
    "#やること\n",
    "#df_customerとdf_receiptの結合\n",
    "#顧客情報を女性のみに絞り込む\n",
    "#欠損値処理\n",
    "#各顧客ごと(女性のみ)の売上金額合計算出(groupby)\n",
    "\n",
    "#df_customerとdf_receiptの結合\n",
    "#pd.merge(左に結合するdf , 右に結合するdf)\n",
    "df_customer_and_receipt = pd.merge(df_customer , df_receipt)\n",
    "\n",
    "#顧客情報を女性のみに絞り込む\n",
    "df_customer_and_receipt_women = df_customer_and_receipt.query(\"gender_cd == 1\")\n",
    "\n",
    "#欠損値処理\n",
    "#.fillna(欠損地を補う値(変数))\n",
    "df_customer_and_receipt_women_fillna =  df_customer_and_receipt_women.fillna(0)\n",
    "\n",
    "#各顧客ごと(女性のみ)の売上金額合計算出(groupby)\n",
    "df_customer_and_receipt_women_fillna.groupby(\"customer_id\")[\"amount\"].sum().to_frame().head()\n",
    "\n",
    "\n",
    "\n"
   ]
  },
  {
   "attachments": {},
   "cell_type": "markdown",
   "metadata": {},
   "source": [
    "<details>\n",
    "<summary>ヒント1</summary>\n",
    "タイトル通り 「pandas DataFrame 結合」などと調べれば必要な機能に関する記事が見つかります。  \n",
    "</details>\n"
   ]
  },
  {
   "attachments": {},
   "cell_type": "markdown",
   "metadata": {},
   "source": [
    "<details>\n",
    "<summary>ヒント2</summary>\n",
    "\"merge\", \"join\"という似たメソッドがあります。  \n",
    "今回の場合\"merge\"が便利でしょう。\n",
    "</details>"
   ]
  },
  {
   "cell_type": "markdown",
   "metadata": {
    "colab_type": "text",
    "id": "umDmd8kohhzA"
   },
   "source": [
    "---\n",
    "## 問7. 時系列データ\n",
    "> P-046: 顧客データフレーム（df_customer）の申し込み日（application_date）はYYYYMMD形式の文字列型でデータを保有している。これを日付型（dateやdatetime）に変換し、顧客ID（customer_id）とともに抽出せよ。なお、データは先頭5件を表示せよ。"
   ]
  },
  {
   "cell_type": "code",
   "execution_count": 60,
   "metadata": {
    "colab": {
     "base_uri": "https://localhost:8080/",
     "height": 348
    },
    "colab_type": "code",
    "id": "pVAxV-TWhhzA",
    "outputId": "2d2e2281-7181-41b4-81e4-a9e834b93927"
   },
   "outputs": [
    {
     "data": {
      "text/html": [
       "<div>\n",
       "<style scoped>\n",
       "    .dataframe tbody tr th:only-of-type {\n",
       "        vertical-align: middle;\n",
       "    }\n",
       "\n",
       "    .dataframe tbody tr th {\n",
       "        vertical-align: top;\n",
       "    }\n",
       "\n",
       "    .dataframe thead th {\n",
       "        text-align: right;\n",
       "    }\n",
       "</style>\n",
       "<table border=\"1\" class=\"dataframe\">\n",
       "  <thead>\n",
       "    <tr style=\"text-align: right;\">\n",
       "      <th></th>\n",
       "      <th>customer_id</th>\n",
       "      <th>application_date</th>\n",
       "    </tr>\n",
       "  </thead>\n",
       "  <tbody>\n",
       "    <tr>\n",
       "      <th>0</th>\n",
       "      <td>CS021313000114</td>\n",
       "      <td>20150905</td>\n",
       "    </tr>\n",
       "    <tr>\n",
       "      <th>1</th>\n",
       "      <td>CS037613000071</td>\n",
       "      <td>20150414</td>\n",
       "    </tr>\n",
       "    <tr>\n",
       "      <th>2</th>\n",
       "      <td>CS031415000172</td>\n",
       "      <td>20150529</td>\n",
       "    </tr>\n",
       "    <tr>\n",
       "      <th>3</th>\n",
       "      <td>CS028811000001</td>\n",
       "      <td>20160115</td>\n",
       "    </tr>\n",
       "    <tr>\n",
       "      <th>4</th>\n",
       "      <td>CS001215000145</td>\n",
       "      <td>20170605</td>\n",
       "    </tr>\n",
       "  </tbody>\n",
       "</table>\n",
       "</div>"
      ],
      "text/plain": [
       "      customer_id  application_date\n",
       "0  CS021313000114          20150905\n",
       "1  CS037613000071          20150414\n",
       "2  CS031415000172          20150529\n",
       "3  CS028811000001          20160115\n",
       "4  CS001215000145          20170605"
      ]
     },
     "execution_count": 60,
     "metadata": {},
     "output_type": "execute_result"
    }
   ],
   "source": [
    "#やる事\n",
    "#YYYYMMD形式->日付型に変換\n",
    "#顧客IDとともに表示\n",
    "\n",
    "#YYYYMMD形式->日付型に変換\n",
    "pd.to_datetime(df_customer['application_date'])\n",
    "\n",
    "#顧客IDとともに表示\n",
    "#df[['カラム名','カラム名']]；特定のカラムのみ抽出\n",
    "df_customer[[ 'customer_id' , 'application_date' ]].head()"
   ]
  },
  {
   "attachments": {},
   "cell_type": "markdown",
   "metadata": {},
   "source": [
    "<details>\n",
    "<summary>ヒント1</summary>\n",
    "「pandas datetime」などで該当の機能が見つかるかと思います。\n",
    "</details>\n"
   ]
  },
  {
   "attachments": {},
   "cell_type": "markdown",
   "metadata": {},
   "source": [
    "<details>\n",
    "<summary>ヒント2</summary>\n",
    "\"pd.to_datetime\"というメソッドが使えるでしょう。このメソッドを適用する際ですが、for文を使わずに実装しましょう。"
   ]
  },
  {
   "cell_type": "markdown",
   "metadata": {
    "colab_type": "text",
    "id": "9v_q6BLjhhzU"
   },
   "source": [
    "---\n",
    "## 問8. 関数\n",
    "> P-061: レシート明細データフレーム（df_receipt）の売上金額（amount）を顧客ID（customer_id）ごとに合計し、合計した売上金額を常用対数化（底=10）して顧客ID、売上金額合計とともに表示せよ。ただし、顧客IDが\"Z\"から始まるのものは非会員を表すため、除外して計算すること。なお、結果は先頭5件を表示せよ。"
   ]
  },
  {
   "cell_type": "code",
   "execution_count": 61,
   "metadata": {
    "colab": {
     "base_uri": "https://localhost:8080/",
     "height": 437
    },
    "colab_type": "code",
    "id": "d5_2HQ-2hhzU",
    "outputId": "56ba3b92-2071-4a8d-c555-d9007bb43316"
   },
   "outputs": [
    {
     "data": {
      "text/html": [
       "<div>\n",
       "<style scoped>\n",
       "    .dataframe tbody tr th:only-of-type {\n",
       "        vertical-align: middle;\n",
       "    }\n",
       "\n",
       "    .dataframe tbody tr th {\n",
       "        vertical-align: top;\n",
       "    }\n",
       "\n",
       "    .dataframe thead th {\n",
       "        text-align: right;\n",
       "    }\n",
       "</style>\n",
       "<table border=\"1\" class=\"dataframe\">\n",
       "  <thead>\n",
       "    <tr style=\"text-align: right;\">\n",
       "      <th></th>\n",
       "      <th>amount</th>\n",
       "    </tr>\n",
       "    <tr>\n",
       "      <th>customer_id</th>\n",
       "      <th></th>\n",
       "    </tr>\n",
       "  </thead>\n",
       "  <tbody>\n",
       "    <tr>\n",
       "      <th>CS001113000004</th>\n",
       "      <td>3.113275</td>\n",
       "    </tr>\n",
       "    <tr>\n",
       "      <th>CS001114000005</th>\n",
       "      <td>2.796574</td>\n",
       "    </tr>\n",
       "    <tr>\n",
       "      <th>CS001115000010</th>\n",
       "      <td>3.483445</td>\n",
       "    </tr>\n",
       "    <tr>\n",
       "      <th>CS001205000004</th>\n",
       "      <td>3.298416</td>\n",
       "    </tr>\n",
       "    <tr>\n",
       "      <th>CS001205000006</th>\n",
       "      <td>3.523356</td>\n",
       "    </tr>\n",
       "    <tr>\n",
       "      <th>...</th>\n",
       "      <td>...</td>\n",
       "    </tr>\n",
       "    <tr>\n",
       "      <th>CS051513000004</th>\n",
       "      <td>2.741152</td>\n",
       "    </tr>\n",
       "    <tr>\n",
       "      <th>CS051515000002</th>\n",
       "      <td>2.423246</td>\n",
       "    </tr>\n",
       "    <tr>\n",
       "      <th>CS052212000002</th>\n",
       "      <td>2.283301</td>\n",
       "    </tr>\n",
       "    <tr>\n",
       "      <th>CS052514000001</th>\n",
       "      <td>2.250420</td>\n",
       "    </tr>\n",
       "    <tr>\n",
       "      <th>ZZ000000000000</th>\n",
       "      <td>7.093247</td>\n",
       "    </tr>\n",
       "  </tbody>\n",
       "</table>\n",
       "<p>8307 rows × 1 columns</p>\n",
       "</div>"
      ],
      "text/plain": [
       "                  amount\n",
       "customer_id             \n",
       "CS001113000004  3.113275\n",
       "CS001114000005  2.796574\n",
       "CS001115000010  3.483445\n",
       "CS001205000004  3.298416\n",
       "CS001205000006  3.523356\n",
       "...                  ...\n",
       "CS051513000004  2.741152\n",
       "CS051515000002  2.423246\n",
       "CS052212000002  2.283301\n",
       "CS052514000001  2.250420\n",
       "ZZ000000000000  7.093247\n",
       "\n",
       "[8307 rows x 1 columns]"
      ]
     },
     "execution_count": 61,
     "metadata": {},
     "output_type": "execute_result"
    }
   ],
   "source": [
    "#やること\n",
    "#非会員を除く\n",
    "#売上金額（amount）を顧客ID（customer_id）ごとに合計する\n",
    "#合計した売上金額を常用対数化（底=10）する\n",
    "#顧客ID、売上金額合計とともに表示する\n",
    "\n",
    "#非会員を除く\n",
    "df_customer_only_member = df_customer[~df_customer[\"customer_id\"].str.startswith(\"Z\")]\n",
    "\n",
    "#売上金額（amount）を顧客ID（customer_id）ごとに合計する(この時dtype = Series)\n",
    "df_receipt_amount_customer = df_receipt.groupby(\"customer_id\")[\"amount\"].sum().to_frame()\n",
    "\n",
    "\n",
    "\n",
    "#合計した売上金額を常用対数化（底=10）する\n",
    "#apply()関数は、引数に指定した関数を各列に適用することができる。\n",
    "#np.log10で常常用対数をとれる\n",
    "#顧客ID、売上金額合計とともに表示する\n",
    "df_receipt_amount_customer[\"amount\"].apply(np.log10).to_frame()\n",
    "\n",
    "\n",
    "\n",
    "\n",
    "\n"
   ]
  },
  {
   "cell_type": "markdown",
   "metadata": {
    "colab_type": "text",
    "id": "boe923CMhhzq"
   },
   "source": [
    "---\n",
    "## 問9. 欠損数\n",
    "> P-079: 商品データフレーム（df_product）の各項目に対し、欠損数を確認せよ。"
   ]
  },
  {
   "cell_type": "code",
   "execution_count": 62,
   "metadata": {
    "colab": {
     "base_uri": "https://localhost:8080/",
     "height": 169
    },
    "colab_type": "code",
    "id": "bxl__vC5hhzq",
    "outputId": "d8bb408a-6897-4e5a-8416-ce67a8a5fce4"
   },
   "outputs": [
    {
     "data": {
      "text/plain": [
       "product_cd            0\n",
       "category_major_cd     0\n",
       "category_medium_cd    0\n",
       "category_small_cd     0\n",
       "unit_price            7\n",
       "unit_cost             7\n",
       "dtype: int64"
      ]
     },
     "execution_count": 62,
     "metadata": {},
     "output_type": "execute_result"
    }
   ],
   "source": [
    "#.sunull()；欠損したデータにはtrue,そうでないデータにはfalseを返す\n",
    "#.isnull().sum()でtureの個数の合計を表示できる\n",
    "df_product.isnull().sum()"
   ]
  },
  {
   "cell_type": "markdown",
   "metadata": {
    "colab_type": "text",
    "id": "afprSqIvhhzs"
   },
   "source": [
    "---\n",
    "## 問10. 欠損値の除去\n",
    "> P-080: 商品データフレーム（df_product）のいずれかの項目に欠損が発生しているレコードを全て削除した新たなdf_product_1を作成せよ。なお、削除前後の件数を表示させ、前設問で確認した件数だけ減少していることも確認すること。"
   ]
  },
  {
   "cell_type": "code",
   "execution_count": 63,
   "metadata": {
    "colab": {},
    "colab_type": "code",
    "id": "q3_9sLdHhhzt"
   },
   "outputs": [],
   "source": [
    "df_product_1 = df_product.dropna()"
   ]
  },
  {
   "cell_type": "code",
   "execution_count": 64,
   "metadata": {
    "colab": {},
    "colab_type": "code",
    "id": "qFNnYstw1vTG"
   },
   "outputs": [
    {
     "data": {
      "text/plain": [
       "(10030, 10023)"
      ]
     },
     "execution_count": 64,
     "metadata": {},
     "output_type": "execute_result"
    }
   ],
   "source": [
    "len(df_product), len(df_product_1)"
   ]
  },
  {
   "cell_type": "markdown",
   "metadata": {
    "colab_type": "text",
    "id": "GtiO20ZKhhzu"
   },
   "source": [
    "---\n",
    "## 問11. 欠損値の穴埋め\n",
    "> P-081: 単価（unit_price）と原価（unit_cost）の欠損値について、それぞれの平均値で補完した新たなdf_product_2を作成せよ。なお、平均値について1円未満は四捨五入とせよ。補完実施後、各項目について欠損が生じていないことも確認すること。"
   ]
  },
  {
   "cell_type": "code",
   "execution_count": 65,
   "metadata": {
    "colab": {},
    "colab_type": "code",
    "id": "puFf-7Ewhhzu"
   },
   "outputs": [
    {
     "data": {
      "text/plain": [
       "product_cd            0\n",
       "category_major_cd     0\n",
       "category_medium_cd    0\n",
       "category_small_cd     0\n",
       "unit_price            0\n",
       "unit_cost             0\n",
       "dtype: int64"
      ]
     },
     "execution_count": 65,
     "metadata": {},
     "output_type": "execute_result"
    }
   ],
   "source": [
    "#やること\n",
    "#単価と原価の平均値を求める(小数第1位未満を四捨五入)\n",
    "#欠損値を補完\n",
    "\n",
    "#単価と原価の平均値を求める(小数第1位未満を四捨五入)\n",
    "mean = df_product[['unit_price' , 'unit_cost']].mean()\n",
    "\n",
    "#欠損値を補完\n",
    "df_product_2 = df_product.fillna(mean)\n",
    "df_product_2.isnull().sum()\n",
    "\n"
   ]
  },
  {
   "attachments": {},
   "cell_type": "markdown",
   "metadata": {},
   "source": [
    "### 余談\n",
    "ChatGPTやBing AIに聞けば大抵のことは教えてくれます。  \n",
    "何回か入力文章を吟味しないといけないこともありますが、知らないことを調べる場合は自分で検索するよりも早いです。  \n",
    "ただ、ChatGPTなどは嘘をつく場合があるので、自分でソースを参照する姿勢は必要です。  \n",
    "\n",
    "これはBingAIの回答例です。  \n",
    "\n",
    "![BingAIの回答例](./imgs/pandas/BingAI.png)"
   ]
  }
 ],
 "metadata": {
  "colab": {
   "name": "pandas_quiz.ipynb",
   "provenance": []
  },
  "kernelspec": {
   "display_name": "Python 3",
   "language": "python",
   "name": "python3"
  },
  "language_info": {
   "codemirror_mode": {
    "name": "ipython",
    "version": 3
   },
   "file_extension": ".py",
   "mimetype": "text/x-python",
   "name": "python",
   "nbconvert_exporter": "python",
   "pygments_lexer": "ipython3",
   "version": "3.12.0"
  }
 },
 "nbformat": 4,
 "nbformat_minor": 4
}
