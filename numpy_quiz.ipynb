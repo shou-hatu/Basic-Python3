{
 "cells": [
  {
   "cell_type": "markdown",
   "metadata": {},
   "source": [
    "# Numpyの確認課題"
   ]
  },
  {
   "cell_type": "markdown",
   "metadata": {},
   "source": [
    "## 必要モジュールのインポート\n",
    "\n",
    "この問題で使うモジュールをインポートします．"
   ]
  },
  {
   "cell_type": "code",
   "execution_count": 1,
   "metadata": {},
   "outputs": [],
   "source": [
    "import matplotlib.pyplot as plt\n",
    "import numpy as np\n",
    "\n",
    "np.random.seed(0)"
   ]
  },
  {
   "cell_type": "markdown",
   "metadata": {},
   "source": [
    "---"
   ]
  },
  {
   "cell_type": "markdown",
   "metadata": {},
   "source": [
    "### 問1. `ndarray`の生成\n",
    "\n",
    "以下の2つの`ndarray`を定義しなさい．\n",
    "- 観測値 `x`: 初項`0`，末項`5`，項数`100`の等差数列\n",
    "- ノイズ `noise`: 標準正規分布に従う`100`個の乱数"
   ]
  },
  {
   "cell_type": "code",
   "execution_count": 32,
   "metadata": {},
   "outputs": [
    {
     "name": "stdout",
     "output_type": "stream",
     "text": [
      "100\n"
     ]
    }
   ],
   "source": [
    "x = np.arange(0,5.05,5/99)\n",
    "\n",
    "print(x.size)\n",
    "noise =np.random.normal(\n",
    "    loc   = 0,      # 平均\n",
    "    scale = 1,      # 標準偏差\n",
    "    size  = 100,# 出力配列のサイズ(タプルも可)\n",
    ")\n",
    " #TODO"
   ]
  },
  {
   "cell_type": "markdown",
   "metadata": {},
   "source": [
    "---"
   ]
  },
  {
   "cell_type": "markdown",
   "metadata": {},
   "source": [
    "ここで，真の関数 $y(x) = 3 - 5x + x^2$ を定義します．"
   ]
  },
  {
   "cell_type": "code",
   "execution_count": 10,
   "metadata": {},
   "outputs": [],
   "source": [
    "def y(x):\n",
    "    \"\"\"真の関数\"\"\"\n",
    "    return 3 - 5 * x + x ** 2"
   ]
  },
  {
   "cell_type": "markdown",
   "metadata": {},
   "source": [
    "### 問2． `ndarray`の操作\n",
    "\n",
    "問1で生成した観測値 `x` に対応する目標値 `t` を定義しなさい．\n",
    "\n",
    "目標値 $t$ は， $t = y(x) + \\epsilon$ と表されます．  ( $y$: 真の関数, $\\epsilon$: ノイズ )  \n",
    "実際の観測値にはどうしてもノイズ(観測誤差)が発生してしまいます．今回は，それを`noise`で再現します．\n",
    "\n",
    "問1で観測値を100個生成したので，それぞれに対応する目標値も100個作成する必要がありますが， `for` 文は絶対使ってはいけません．"
   ]
  },
  {
   "cell_type": "code",
   "execution_count": 11,
   "metadata": {},
   "outputs": [
    {
     "name": "stdout",
     "output_type": "stream",
     "text": [
      "[[ 1.69347315  4.40815619  2.38698849  1.58520288  2.69709423  1.34042295\n",
      "   0.24241738  0.01059297  1.83681978  0.77431086  0.59612193  1.608608\n",
      "  -0.78981938 -0.58242757 -0.42028436 -0.11960617 -0.4295809  -0.84264681\n",
      "  -0.78063467 -0.98446067 -1.74980539 -1.99113808 -1.0464713  -2.34964378\n",
      "  -2.74872349 -2.03119849 -1.99900974  0.29804581 -2.77561141 -1.23478233\n",
      "  -1.53288513 -3.5659473  -1.69557673 -3.7394362  -5.29635212 -2.10738316\n",
      "  -4.54101455 -2.40050927 -3.59667287 -1.3092279  -1.9512845  -3.51909338\n",
      "  -3.79435735 -4.35630779 -3.61376214 -3.4787026  -3.58344673 -3.07735389\n",
      "  -2.66573929 -2.89970785 -4.01350623 -4.68205226 -1.8695259  -3.90820237\n",
      "  -3.85064071 -3.69402882 -4.98529993 -3.58449375 -3.54536339 -2.3994356\n",
      "  -2.27032155 -2.90889108 -1.91959536 -2.44515898 -2.7293848  -2.47625171\n",
      "  -2.74620905 -2.86367923 -2.64473588 -3.40808479 -1.89760135 -3.06403474\n",
      "  -1.11704642 -2.0908013  -1.66941125 -1.09753145 -0.81541424 -2.89161106\n",
      "  -1.38504876 -0.15002209 -2.57526121 -0.33172779 -2.81132385 -1.40991629\n",
      "  -0.17532721 -1.69211965 -0.83726056 -1.13482858  2.17899913  0.89405124\n",
      "   1.50117458  0.92037153  1.00387873 -0.03979834  1.50930538  1.26921894\n",
      "   3.12330501  3.6462544   4.21660422  3.85255194]]\n"
     ]
    }
   ],
   "source": [
    "#tにy(x) + noiseを100こ分入れたndarrayを作る？\n",
    "#numpy.insert(arr, obj, values, axis=None)\n",
    "#np.empty(配列のsize)\n",
    "\n",
    "t = np.array([y(x[0:100])],) + noise\n",
    "print(t)\n",
    "\n",
    " #TODO"
   ]
  },
  {
   "cell_type": "markdown",
   "metadata": {},
   "source": [
    "matplotlib で可視化すると以下のようなグラフになります．\n",
    "scatter → 散布図"
   ]
  },
  {
   "cell_type": "code",
   "execution_count": 12,
   "metadata": {},
   "outputs": [
    {
     "data": {
      "text/plain": [
       "<matplotlib.collections.PathCollection at 0x158bcfa0350>"
      ]
     },
     "execution_count": 12,
     "metadata": {},
     "output_type": "execute_result"
    },
    {
     "data": {
      "image/png": "[encoded data removed]",
      "text/plain": [
       "<Figure size 640x480 with 1 Axes>"
      ]
     },
     "metadata": {},
     "output_type": "display_data"
    }
   ],
   "source": [
    "plt.scatter(x, t)"
   ]
  },
  {
   "cell_type": "markdown",
   "metadata": {},
   "source": [
    "---"
   ]
  },
  {
   "cell_type": "markdown",
   "metadata": {},
   "source": [
    "### 問3. `ndarray`の結合\n",
    "\n",
    "以下の3つの`ndarray`を垂直方向に結合した2次元配列を転置した行列 `X` を定義しなさい．\n",
    "\n",
    "- x0: 長さが `x` と同じで要素が全て1の`ndarray`\n",
    "- x1: 観測値 `x` の各要素を1乗した`ndarray`\n",
    "- x2: 観測値 `x` の各要素を2乗した`ndarray`\n",
    "\n",
    "例： $x = (1, 2, 3)$ のとき，\n",
    "\n",
    "$$\n",
    "x_0 = (1, 1, 1)\\\\\n",
    "x_1 = (1, 2, 3)\\\\\n",
    "x_2 = (1, 4, 9)\n",
    "$$\n",
    "\n",
    "だから，\n",
    "\n",
    "$$\n",
    "X = \\left(\n",
    "\\begin{array}{ccc}\n",
    "    1 & 1 & 1 \\\\\n",
    "    1 & 2 & 3 \\\\\n",
    "    1 & 4 & 9\n",
    "\\end{array}\n",
    "\\right)^T\n",
    "= \\left(\n",
    "\\begin{array}{ccc}\n",
    "    1 & 1 & 1 \\\\\n",
    "    1 & 2 & 4 \\\\\n",
    "    1 & 3 & 9\n",
    "\\end{array}\n",
    "\\right)\n",
    "$$\n",
    "\n",
    "ちなみに，機械学習では `X` のような行列を計画行列と呼びます．"
   ]
  },
  {
   "cell_type": "code",
   "execution_count": 82,
   "metadata": {},
   "outputs": [
    {
     "name": "stdout",
     "output_type": "stream",
     "text": [
      "[1.00000000e+00 1.00000000e+00 1.00000000e+00 1.00000000e+00\n",
      " 1.00000000e+00 1.00000000e+00 1.00000000e+00 1.00000000e+00\n",
      " 1.00000000e+00 1.00000000e+00 1.00000000e+00 1.00000000e+00\n",
      " 1.00000000e+00 1.00000000e+00 1.00000000e+00 1.00000000e+00\n",
      " 1.00000000e+00 1.00000000e+00 1.00000000e+00 1.00000000e+00\n",
      " 1.00000000e+00 1.00000000e+00 1.00000000e+00 1.00000000e+00\n",
      " 1.00000000e+00 1.00000000e+00 1.00000000e+00 1.00000000e+00\n",
      " 1.00000000e+00 1.00000000e+00 1.00000000e+00 1.00000000e+00\n",
      " 1.00000000e+00 1.00000000e+00 1.00000000e+00 1.00000000e+00\n",
      " 1.00000000e+00 1.00000000e+00 1.00000000e+00 1.00000000e+00\n",
      " 1.00000000e+00 1.00000000e+00 1.00000000e+00 1.00000000e+00\n",
      " 1.00000000e+00 1.00000000e+00 1.00000000e+00 1.00000000e+00\n",
      " 1.00000000e+00 1.00000000e+00 1.00000000e+00 1.00000000e+00\n",
      " 1.00000000e+00 1.00000000e+00 1.00000000e+00 1.00000000e+00\n",
      " 1.00000000e+00 1.00000000e+00 1.00000000e+00 1.00000000e+00\n",
      " 1.00000000e+00 1.00000000e+00 1.00000000e+00 1.00000000e+00\n",
      " 1.00000000e+00 1.00000000e+00 1.00000000e+00 1.00000000e+00\n",
      " 1.00000000e+00 1.00000000e+00 1.00000000e+00 1.00000000e+00\n",
      " 1.00000000e+00 1.00000000e+00 1.00000000e+00 1.00000000e+00\n",
      " 1.00000000e+00 1.00000000e+00 1.00000000e+00 1.00000000e+00\n",
      " 1.00000000e+00 1.00000000e+00 1.00000000e+00 1.00000000e+00\n",
      " 1.00000000e+00 1.00000000e+00 1.00000000e+00 1.00000000e+00\n",
      " 1.00000000e+00 1.00000000e+00 1.00000000e+00 1.00000000e+00\n",
      " 1.00000000e+00 1.00000000e+00 1.00000000e+00 1.00000000e+00\n",
      " 1.00000000e+00 1.00000000e+00 1.00000000e+00 1.00000000e+00\n",
      " 0.00000000e+00 5.05050505e-02 1.01010101e-01 1.51515152e-01\n",
      " 2.02020202e-01 2.52525253e-01 3.03030303e-01 3.53535354e-01\n",
      " 4.04040404e-01 4.54545455e-01 5.05050505e-01 5.55555556e-01\n",
      " 6.06060606e-01 6.56565657e-01 7.07070707e-01 7.57575758e-01\n",
      " 8.08080808e-01 8.58585859e-01 9.09090909e-01 9.59595960e-01\n",
      " 1.01010101e+00 1.06060606e+00 1.11111111e+00 1.16161616e+00\n",
      " 1.21212121e+00 1.26262626e+00 1.31313131e+00 1.36363636e+00\n",
      " 1.41414141e+00 1.46464646e+00 1.51515152e+00 1.56565657e+00\n",
      " 1.61616162e+00 1.66666667e+00 1.71717172e+00 1.76767677e+00\n",
      " 1.81818182e+00 1.86868687e+00 1.91919192e+00 1.96969697e+00\n",
      " 2.02020202e+00 2.07070707e+00 2.12121212e+00 2.17171717e+00\n",
      " 2.22222222e+00 2.27272727e+00 2.32323232e+00 2.37373737e+00\n",
      " 2.42424242e+00 2.47474747e+00 2.52525253e+00 2.57575758e+00\n",
      " 2.62626263e+00 2.67676768e+00 2.72727273e+00 2.77777778e+00\n",
      " 2.82828283e+00 2.87878788e+00 2.92929293e+00 2.97979798e+00\n",
      " 3.03030303e+00 3.08080808e+00 3.13131313e+00 3.18181818e+00\n",
      " 3.23232323e+00 3.28282828e+00 3.33333333e+00 3.38383838e+00\n",
      " 3.43434343e+00 3.48484848e+00 3.53535354e+00 3.58585859e+00\n",
      " 3.63636364e+00 3.68686869e+00 3.73737374e+00 3.78787879e+00\n",
      " 3.83838384e+00 3.88888889e+00 3.93939394e+00 3.98989899e+00\n",
      " 4.04040404e+00 4.09090909e+00 4.14141414e+00 4.19191919e+00\n",
      " 4.24242424e+00 4.29292929e+00 4.34343434e+00 4.39393939e+00\n",
      " 4.44444444e+00 4.49494949e+00 4.54545455e+00 4.59595960e+00\n",
      " 4.64646465e+00 4.69696970e+00 4.74747475e+00 4.79797980e+00\n",
      " 4.84848485e+00 4.89898990e+00 4.94949495e+00 5.00000000e+00\n",
      " 0.00000000e+00 2.55076013e-03 1.02030405e-02 2.29568411e-02\n",
      " 4.08121620e-02 6.37690032e-02 9.18273646e-02 1.24987246e-01\n",
      " 1.63248648e-01 2.06611570e-01 2.55076013e-01 3.08641975e-01\n",
      " 3.67309458e-01 4.31078461e-01 4.99948985e-01 5.73921028e-01\n",
      " 6.52994592e-01 7.37169677e-01 8.26446281e-01 9.20824406e-01\n",
      " 1.02030405e+00 1.12488522e+00 1.23456790e+00 1.34935211e+00\n",
      " 1.46923783e+00 1.59422508e+00 1.72431385e+00 1.85950413e+00\n",
      " 1.99979594e+00 2.14518927e+00 2.29568411e+00 2.45128048e+00\n",
      " 2.61197837e+00 2.77777778e+00 2.94867871e+00 3.12468115e+00\n",
      " 3.30578512e+00 3.49199061e+00 3.68329762e+00 3.87970615e+00\n",
      " 4.08121620e+00 4.28782777e+00 4.49954086e+00 4.71635547e+00\n",
      " 4.93827160e+00 5.16528926e+00 5.39740843e+00 5.63462912e+00\n",
      " 5.87695133e+00 6.12437506e+00 6.37690032e+00 6.63452709e+00\n",
      " 6.89725538e+00 7.16508520e+00 7.43801653e+00 7.71604938e+00\n",
      " 7.99918376e+00 8.28741965e+00 8.58075707e+00 8.87919600e+00\n",
      " 9.18273646e+00 9.49137843e+00 9.80512193e+00 1.01239669e+01\n",
      " 1.04479135e+01 1.07769615e+01 1.11111111e+01 1.14503622e+01\n",
      " 1.17947148e+01 1.21441690e+01 1.24987246e+01 1.28583818e+01\n",
      " 1.32231405e+01 1.35930007e+01 1.39679625e+01 1.43480257e+01\n",
      " 1.47331905e+01 1.51234568e+01 1.55188246e+01 1.59192939e+01\n",
      " 1.63248648e+01 1.67355372e+01 1.71513111e+01 1.75721865e+01\n",
      " 1.79981635e+01 1.84292419e+01 1.88654219e+01 1.93067034e+01\n",
      " 1.97530864e+01 2.02045710e+01 2.06611570e+01 2.11228446e+01\n",
      " 2.15896337e+01 2.20615243e+01 2.25385165e+01 2.30206101e+01\n",
      " 2.35078053e+01 2.40001020e+01 2.44975003e+01 2.50000000e+01]\n"
     ]
    }
   ],
   "source": [
    "X0 = np.ones((x.size))\n",
    "\n",
    "X1 = x ** 1\n",
    "X2 = x ** 2\n",
    "\n",
    "preX =np.concatenate([X0, X1,X2], 0)\n",
    "#二次元配列の場合、axis=0で縦に、axis=1で横に結合される。\n",
    "X = preX.T\n",
    "print(X)\n",
    "\n",
    "\n",
    "#axis 1 is out of bounds for array of dimension 1(axis1が一次元のarrayの範囲外)\n",
    "#TODO"
   ]
  },
  {
   "cell_type": "markdown",
   "metadata": {},
   "source": [
    "---"
   ]
  },
  {
   "cell_type": "markdown",
   "metadata": {},
   "source": [
    "### 問4. 線形代数\n",
    "\n",
    "観測値 `x, t` をもとに真の関数 `y` を2次関数で回帰しなさい．\n",
    "\n",
    "任意の2次関数は $y(x) = w_0 + w_1 x + w_2 x^2$ と表すことができます．  \n",
    "なので，パラメータのベクトル $\\mathbf{w} = (w_0, w_1, w_2)$ を求めれば良いことになります．\n",
    "\n",
    "これは以下の正規方程式から求めることができます．\n",
    "\n",
    "$ \\mathbf{w} = (X^T X)^{-1} X^T \\mathbf{t} $\n",
    "\n",
    "この式の導出はdev_data勉強会で学びます．\n",
    "\n",
    "行列の積が多い場合は`np.dot`を使わない方が簡潔に書けます．"
   ]
  },
  {
   "cell_type": "code",
   "execution_count": 60,
   "metadata": {},
   "outputs": [
    {
     "ename": "ValueError",
     "evalue": "matmul: Input operand 1 has a mismatch in its core dimension 0, with gufunc signature (n?,k),(k,m?)->(n?,m?) (size 1 is different from 100)",
     "output_type": "error",
     "traceback": [
      "\u001b[1;31m---------------------------------------------------------------------------\u001b[0m",
      "\u001b[1;31mValueError\u001b[0m                                Traceback (most recent call last)",
      "Cell \u001b[1;32mIn[60], line 1\u001b[0m\n\u001b[1;32m----> 1\u001b[0m w0, w1, w2 \u001b[38;5;241m=\u001b[39m \u001b[43mnp\u001b[49m\u001b[38;5;241;43m.\u001b[39;49m\u001b[43mlinalg\u001b[49m\u001b[38;5;241;43m.\u001b[39;49m\u001b[43minv\u001b[49m\u001b[43m(\u001b[49m\u001b[43mX\u001b[49m\u001b[38;5;241;43m.\u001b[39;49m\u001b[43mT\u001b[49m\u001b[43m \u001b[49m\u001b[38;5;241;43m@\u001b[39;49m\u001b[43m \u001b[49m\u001b[43mX\u001b[49m\u001b[43m)\u001b[49m\u001b[43m \u001b[49m\u001b[38;5;241;43m@\u001b[39;49m\u001b[43m \u001b[49m\u001b[43mX\u001b[49m\u001b[38;5;241;43m.\u001b[39;49m\u001b[43mT\u001b[49m\u001b[43m \u001b[49m\u001b[38;5;241;43m@\u001b[39;49m\u001b[43m \u001b[49m\u001b[43mt\u001b[49m\n\u001b[0;32m      2\u001b[0m \u001b[38;5;66;03m#TODO\u001b[39;00m\n\u001b[0;32m      3\u001b[0m pred_y \u001b[38;5;241m=\u001b[39m w0 \u001b[38;5;241m+\u001b[39m w1 \u001b[38;5;241m*\u001b[39m x \u001b[38;5;241m+\u001b[39m w2 \u001b[38;5;241m*\u001b[39m x \u001b[38;5;241m*\u001b[39m\u001b[38;5;241m*\u001b[39m \u001b[38;5;241m2\u001b[39m\n",
      "\u001b[1;31mValueError\u001b[0m: matmul: Input operand 1 has a mismatch in its core dimension 0, with gufunc signature (n?,k),(k,m?)->(n?,m?) (size 1 is different from 100)"
     ]
    }
   ],
   "source": [
    "w0, w1, w2 = np.linalg.inv(X.T @ X) @ X.T @ t\n",
    "#TODO\n",
    "pred_y = w0 + w1 * x + w2 * x ** 2"
   ]
  },
  {
   "cell_type": "markdown",
   "metadata": {},
   "source": [
    "---"
   ]
  },
  {
   "cell_type": "markdown",
   "metadata": {},
   "source": [
    "### 結果\n",
    "\n",
    "先ほどのグラフに真の関数(緑)と回帰曲線(赤)を重ねると以下のようになります．"
   ]
  },
  {
   "cell_type": "code",
   "execution_count": 38,
   "metadata": {},
   "outputs": [
    {
     "ename": "NameError",
     "evalue": "name 'pred_y' is not defined",
     "output_type": "error",
     "traceback": [
      "\u001b[1;31m---------------------------------------------------------------------------\u001b[0m",
      "\u001b[1;31mNameError\u001b[0m                                 Traceback (most recent call last)",
      "Cell \u001b[1;32mIn[38], line 2\u001b[0m\n\u001b[0;32m      1\u001b[0m plt\u001b[38;5;241m.\u001b[39mscatter(x, t)\n\u001b[1;32m----> 2\u001b[0m plt\u001b[38;5;241m.\u001b[39mplot(x, \u001b[43mpred_y\u001b[49m, linewidth\u001b[38;5;241m=\u001b[39m\u001b[38;5;241m5\u001b[39m, color\u001b[38;5;241m=\u001b[39m\u001b[38;5;124m\"\u001b[39m\u001b[38;5;124mred\u001b[39m\u001b[38;5;124m\"\u001b[39m, label\u001b[38;5;241m=\u001b[39m\u001b[38;5;124m\"\u001b[39m\u001b[38;5;124mpred\u001b[39m\u001b[38;5;124m\"\u001b[39m)\n\u001b[0;32m      3\u001b[0m plt\u001b[38;5;241m.\u001b[39mplot(x, y(x), linewidth\u001b[38;5;241m=\u001b[39m\u001b[38;5;241m5\u001b[39m, color\u001b[38;5;241m=\u001b[39m\u001b[38;5;124m\"\u001b[39m\u001b[38;5;124mgreen\u001b[39m\u001b[38;5;124m\"\u001b[39m, label\u001b[38;5;241m=\u001b[39m\u001b[38;5;124m\"\u001b[39m\u001b[38;5;124mtrue\u001b[39m\u001b[38;5;124m\"\u001b[39m)\n\u001b[0;32m      4\u001b[0m plt\u001b[38;5;241m.\u001b[39mlegend()\n",
      "\u001b[1;31mNameError\u001b[0m: name 'pred_y' is not defined"
     ]
    },
    {
     "data": {
      "image/png": "[encoded data removed]",
      "text/plain": [
       "<Figure size 640x480 with 1 Axes>"
      ]
     },
     "metadata": {},
     "output_type": "display_data"
    }
   ],
   "source": [
    "plt.scatter(x, t)\n",
    "plt.plot(x, pred_y, linewidth=5, color=\"red\", label=\"pred\")\n",
    "plt.plot(x, y(x), linewidth=5, color=\"green\", label=\"true\")\n",
    "plt.legend()"
   ]
  },
  {
   "cell_type": "markdown",
   "metadata": {},
   "source": [
    "今回使った手法は 真の関数 `y` の定義を変更するとその他のコードを全く変更しなくても同様に回帰することができます．\n",
    "\n",
    "例えば以下のように変更したらその関数を回帰します．\n",
    "\n",
    "```python\n",
    "def y(x):\n",
    "    \"\"\"真の関数\"\"\"\n",
    "    return 5 * np.sin(np.pi * x / 5)\n",
    "```\n",
    "dev_data勉強会で詳しくやりますが，この回帰曲線の表現力は2次までです．\n",
    "カーブが2つ以上の曲線を回帰したい場合は問3の計画行列の列数を　`x3, x4...`　のように増やせば表現力が上がります．"
   ]
  },
  {
   "cell_type": "code",
   "execution_count": null,
   "metadata": {},
   "outputs": [],
   "source": []
  }
 ],
 "metadata": {
  "kernelspec": {
   "display_name": "Python 3",
   "language": "python",
   "name": "python3"
  },
  "language_info": {
   "codemirror_mode": {
    "name": "ipython",
    "version": 3
   },
   "file_extension": ".py",
   "mimetype": "text/x-python",
   "name": "python",
   "nbconvert_exporter": "python",
   "pygments_lexer": "ipython3",
   "version": "3.12.0"
  }
 },
 "nbformat": 4,
 "nbformat_minor": 4
}
